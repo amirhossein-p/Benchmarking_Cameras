{
 "cells": [
  {
   "cell_type": "markdown",
   "metadata": {},
   "source": [
    "Converts NN model with *h5* format to *tflit*e and *kmodel*. <br />\n",
    "Uses nncase: https://github.com/kendryte/nncase <br />\n",
    "Must contain *nncase* folder and *dataset_small* folder in the same directory. <br />\n",
    "*dataset_small* is used by nncase for the purpose of quantization. <br />\n",
    "Software License Agreement (MIT License) <br />\n",
    "Copyright (c) 2019, Amirhossein Pakdaman."
   ]
  },
  {
   "cell_type": "code",
   "execution_count": null,
   "metadata": {},
   "outputs": [],
   "source": [
    "import tensorflow as tf\n",
    "import os"
   ]
  },
  {
   "cell_type": "code",
   "execution_count": null,
   "metadata": {},
   "outputs": [],
   "source": [
    "datasetPath = './dataset_small'"
   ]
  },
  {
   "cell_type": "code",
   "execution_count": null,
   "metadata": {
    "scrolled": false
   },
   "outputs": [],
   "source": [
    "for filename in os.listdir('models'):\n",
    "    nameH5 = 'models/' + filename\n",
    "    nameTf = nameH5.replace('.h5', '.tflite')\n",
    "    nameKm = nameH5.replace('.h5', '.kmodel')\n",
    "    converter = tf.lite.TFLiteConverter.from_keras_model_file(nameH5)\n",
    "    tflite_model = converter.convert()\n",
    "    open(nameTf, \"wb\").write(tflite_model)\n",
    "    os.system('./nncase/ncc -i tflite -o k210model --dataset ' + datasetPath + ' ./' + nameTf + ' ./' + nameKm)\n",
    "    print(filename, 'done')"
   ]
  },
  {
   "cell_type": "code",
   "execution_count": null,
   "metadata": {},
   "outputs": [],
   "source": []
  }
 ],
 "metadata": {
  "kernelspec": {
   "display_name": "Python 3",
   "language": "python",
   "name": "python3"
  },
  "language_info": {
   "codemirror_mode": {
    "name": "ipython",
    "version": 3
   },
   "file_extension": ".py",
   "mimetype": "text/x-python",
   "name": "python",
   "nbconvert_exporter": "python",
   "pygments_lexer": "ipython3",
   "version": "3.5.2"
  }
 },
 "nbformat": 4,
 "nbformat_minor": 2
}
