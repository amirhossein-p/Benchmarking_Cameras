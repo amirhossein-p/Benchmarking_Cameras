{
 "cells": [
  {
   "cell_type": "markdown",
   "metadata": {},
   "source": [
    "Reads *csv* file and generates graphs. <br />\n",
    "Sorts the table by different cloumns to get proper *x* axis data. <br />\n",
    "Software License Agreement (MIT License) <br />\n",
    "Copyright (c) 2019, Amirhossein Pakdaman."
   ]
  },
  {
   "cell_type": "code",
   "execution_count": null,
   "metadata": {},
   "outputs": [],
   "source": [
    "from matplotlib import pyplot as plt\n",
    "import pandas"
   ]
  },
  {
   "cell_type": "code",
   "execution_count": null,
   "metadata": {},
   "outputs": [],
   "source": [
    "colnames = ['Name', 'FileSize', 'Blocks', 'Image', 'Output', 'Params', 'JeVois_1', 'JeVois_2', 'JeVois_3', 'JeVois_4', 'Sipeed_1', 'Sipeed_2', 'Sipeed_3', 'Sipeed_4']\n",
    "data = pandas.read_csv('DepthwiseConv2D_sorted.csv', names=colnames)"
   ]
  },
  {
   "cell_type": "code",
   "execution_count": null,
   "metadata": {},
   "outputs": [],
   "source": [
    "data = data.sort_values(by=['Output'])\n",
    "\n",
    "fileSize = data.FileSize.tolist()\n",
    "blocks = data.Blocks.tolist()\n",
    "image = data.Image.tolist()\n",
    "output = data.Output.tolist()\n",
    "params = data.Params.tolist()\n",
    "jevRunTH = data.JeVois_1.tolist()\n",
    "jevFrameH = data.JeVois_2.tolist()\n",
    "jevRunTL = data.JeVois_3.tolist()\n",
    "jevFrameL = data.JeVois_4.tolist()\n",
    "sipRunT = data.Sipeed_1.tolist()\n",
    "sipFrame = data.Sipeed_2.tolist()\n",
    "\n",
    "x1 = output\n",
    "x2 = 'No. of Outputs'\n",
    "\n",
    "plt.plot(x1, jevRunTL, label='JeVois')\n",
    "plt.plot(x1, sipRunT, label='Sipeed')\n",
    "plt.legend()\n",
    "plt.title('DepthwiseConv2D')\n",
    "plt.xlabel(x2)\n",
    "plt.ylabel('Runtime [ms]')\n",
    "plt.show()\n",
    "\n",
    "plt.plot(x1, jevFrameL, label='JeVois')\n",
    "plt.plot(x1, sipFrame, label='Sipeed')\n",
    "plt.legend()\n",
    "plt.title('DepthwiseConv2D')\n",
    "plt.xlabel(x2)\n",
    "plt.ylabel('Frames [fps]')\n",
    "plt.show()"
   ]
  },
  {
   "cell_type": "code",
   "execution_count": null,
   "metadata": {},
   "outputs": [],
   "source": []
  },
  {
   "cell_type": "code",
   "execution_count": null,
   "metadata": {},
   "outputs": [],
   "source": []
  },
  {
   "cell_type": "code",
   "execution_count": null,
   "metadata": {},
   "outputs": [],
   "source": []
  }
 ],
 "metadata": {
  "kernelspec": {
   "display_name": "Python 3",
   "language": "python",
   "name": "python3"
  },
  "language_info": {
   "codemirror_mode": {
    "name": "ipython",
    "version": 3
   },
   "file_extension": ".py",
   "mimetype": "text/x-python",
   "name": "python",
   "nbconvert_exporter": "python",
   "pygments_lexer": "ipython3",
   "version": "3.5.2"
  }
 },
 "nbformat": 4,
 "nbformat_minor": 2
}
